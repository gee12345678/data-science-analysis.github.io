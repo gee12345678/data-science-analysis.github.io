{
  "cells": [
    {
      "cell_type": "markdown",
      "metadata": {
        "id": "view-in-github",
        "colab_type": "text"
      },
      "source": [
        "<a href=\"https://colab.research.google.com/github/gee12345678/data-science-analysis.github.io/blob/main/SA_CRIME_DATA.ipynb\" target=\"_parent\"><img src=\"https://colab.research.google.com/assets/colab-badge.svg\" alt=\"Open In Colab\"/></a>"
      ]
    },
    {
      "cell_type": "code",
      "execution_count": null,
      "id": "706856ee-ec01-44ee-9cc9-bd77f58faa11",
      "metadata": {
        "id": "706856ee-ec01-44ee-9cc9-bd77f58faa11",
        "outputId": "9f8fa4ac-e1b7-421b-b746-9d713212600e"
      },
      "outputs": [
        {
          "data": {
            "text/html": [
              "<div>\n",
              "<style scoped>\n",
              "    .dataframe tbody tr th:only-of-type {\n",
              "        vertical-align: middle;\n",
              "    }\n",
              "\n",
              "    .dataframe tbody tr th {\n",
              "        vertical-align: top;\n",
              "    }\n",
              "\n",
              "    .dataframe thead th {\n",
              "        text-align: right;\n",
              "    }\n",
              "</style>\n",
              "<table border=\"1\" class=\"dataframe\">\n",
              "  <thead>\n",
              "    <tr style=\"text-align: right;\">\n",
              "      <th></th>\n",
              "      <th>Province</th>\n",
              "      <th>Station</th>\n",
              "      <th>Category</th>\n",
              "      <th>2005-2006</th>\n",
              "      <th>2006-2007</th>\n",
              "      <th>2007-2008</th>\n",
              "      <th>2008-2009</th>\n",
              "      <th>2009-2010</th>\n",
              "      <th>2010-2011</th>\n",
              "      <th>2011-2012</th>\n",
              "      <th>2012-2013</th>\n",
              "      <th>2013-2014</th>\n",
              "      <th>2014-2015</th>\n",
              "      <th>2015-2016</th>\n",
              "    </tr>\n",
              "  </thead>\n",
              "  <tbody>\n",
              "    <tr>\n",
              "      <th>0</th>\n",
              "      <td>Western Cape</td>\n",
              "      <td>Cape Town Central</td>\n",
              "      <td>All theft not mentioned elsewhere</td>\n",
              "      <td>6692</td>\n",
              "      <td>6341</td>\n",
              "      <td>5966</td>\n",
              "      <td>5187</td>\n",
              "      <td>4985</td>\n",
              "      <td>5127</td>\n",
              "      <td>5285</td>\n",
              "      <td>5937</td>\n",
              "      <td>5600</td>\n",
              "      <td>5335</td>\n",
              "      <td>5176</td>\n",
              "    </tr>\n",
              "    <tr>\n",
              "      <th>1</th>\n",
              "      <td>Gauteng</td>\n",
              "      <td>Jhb Central</td>\n",
              "      <td>All theft not mentioned elsewhere</td>\n",
              "      <td>6093</td>\n",
              "      <td>4602</td>\n",
              "      <td>3761</td>\n",
              "      <td>3610</td>\n",
              "      <td>3267</td>\n",
              "      <td>3037</td>\n",
              "      <td>2886</td>\n",
              "      <td>2638</td>\n",
              "      <td>2809</td>\n",
              "      <td>3050</td>\n",
              "      <td>2434</td>\n",
              "    </tr>\n",
              "    <tr>\n",
              "      <th>2</th>\n",
              "      <td>Western Cape</td>\n",
              "      <td>Mitchells Plain</td>\n",
              "      <td>All theft not mentioned elsewhere</td>\n",
              "      <td>5341</td>\n",
              "      <td>6093</td>\n",
              "      <td>6316</td>\n",
              "      <td>6803</td>\n",
              "      <td>6035</td>\n",
              "      <td>5761</td>\n",
              "      <td>6108</td>\n",
              "      <td>5514</td>\n",
              "      <td>4975</td>\n",
              "      <td>4043</td>\n",
              "      <td>3635</td>\n",
              "    </tr>\n",
              "    <tr>\n",
              "      <th>3</th>\n",
              "      <td>Free State</td>\n",
              "      <td>Park Road</td>\n",
              "      <td>All theft not mentioned elsewhere</td>\n",
              "      <td>5108</td>\n",
              "      <td>4282</td>\n",
              "      <td>3834</td>\n",
              "      <td>3316</td>\n",
              "      <td>3101</td>\n",
              "      <td>3013</td>\n",
              "      <td>2679</td>\n",
              "      <td>3116</td>\n",
              "      <td>2927</td>\n",
              "      <td>2297</td>\n",
              "      <td>2103</td>\n",
              "    </tr>\n",
              "    <tr>\n",
              "      <th>4</th>\n",
              "      <td>Gauteng</td>\n",
              "      <td>Pretoria Central</td>\n",
              "      <td>All theft not mentioned elsewhere</td>\n",
              "      <td>5099</td>\n",
              "      <td>4536</td>\n",
              "      <td>3309</td>\n",
              "      <td>2694</td>\n",
              "      <td>2616</td>\n",
              "      <td>2606</td>\n",
              "      <td>2635</td>\n",
              "      <td>3226</td>\n",
              "      <td>3246</td>\n",
              "      <td>2892</td>\n",
              "      <td>3030</td>\n",
              "    </tr>\n",
              "  </tbody>\n",
              "</table>\n",
              "</div>"
            ],
            "text/plain": [
              "       Province            Station                           Category  \\\n",
              "0  Western Cape  Cape Town Central  All theft not mentioned elsewhere   \n",
              "1       Gauteng        Jhb Central  All theft not mentioned elsewhere   \n",
              "2  Western Cape    Mitchells Plain  All theft not mentioned elsewhere   \n",
              "3    Free State          Park Road  All theft not mentioned elsewhere   \n",
              "4       Gauteng   Pretoria Central  All theft not mentioned elsewhere   \n",
              "\n",
              "   2005-2006  2006-2007  2007-2008  2008-2009  2009-2010  2010-2011  \\\n",
              "0       6692       6341       5966       5187       4985       5127   \n",
              "1       6093       4602       3761       3610       3267       3037   \n",
              "2       5341       6093       6316       6803       6035       5761   \n",
              "3       5108       4282       3834       3316       3101       3013   \n",
              "4       5099       4536       3309       2694       2616       2606   \n",
              "\n",
              "   2011-2012  2012-2013  2013-2014  2014-2015  2015-2016  \n",
              "0       5285       5937       5600       5335       5176  \n",
              "1       2886       2638       2809       3050       2434  \n",
              "2       6108       5514       4975       4043       3635  \n",
              "3       2679       3116       2927       2297       2103  \n",
              "4       2635       3226       3246       2892       3030  "
            ]
          },
          "execution_count": 3,
          "metadata": {},
          "output_type": "execute_result"
        }
      ],
      "source": [
        "import pandas as pd\n",
        "\n",
        "# Load the dataset\n",
        "df = pd.read_csv(\"SouthAfricaCrimeStats_v2.csv\")\n",
        "\n",
        "# Preview data\n",
        "df.head()\n"
      ]
    },
    {
      "cell_type": "code",
      "execution_count": null,
      "id": "f0727c60-e3b1-4ba1-81e1-4970003f07ec",
      "metadata": {
        "id": "f0727c60-e3b1-4ba1-81e1-4970003f07ec",
        "outputId": "63ea6c1d-a519-494c-b7e3-12c280e8dd7d"
      },
      "outputs": [
        {
          "data": {
            "text/html": [
              "<div>\n",
              "<style scoped>\n",
              "    .dataframe tbody tr th:only-of-type {\n",
              "        vertical-align: middle;\n",
              "    }\n",
              "\n",
              "    .dataframe tbody tr th {\n",
              "        vertical-align: top;\n",
              "    }\n",
              "\n",
              "    .dataframe thead th {\n",
              "        text-align: right;\n",
              "    }\n",
              "</style>\n",
              "<table border=\"1\" class=\"dataframe\">\n",
              "  <thead>\n",
              "    <tr style=\"text-align: right;\">\n",
              "      <th></th>\n",
              "      <th>Province</th>\n",
              "      <th>Station</th>\n",
              "      <th>Category</th>\n",
              "      <th>2005-2006</th>\n",
              "      <th>2006-2007</th>\n",
              "      <th>2007-2008</th>\n",
              "      <th>2008-2009</th>\n",
              "      <th>2009-2010</th>\n",
              "      <th>2010-2011</th>\n",
              "      <th>2011-2012</th>\n",
              "      <th>2012-2013</th>\n",
              "      <th>2013-2014</th>\n",
              "      <th>2014-2015</th>\n",
              "      <th>2015-2016</th>\n",
              "    </tr>\n",
              "  </thead>\n",
              "  <tbody>\n",
              "    <tr>\n",
              "      <th>30856</th>\n",
              "      <td>Western Cape</td>\n",
              "      <td>Belhar</td>\n",
              "      <td>All theft not mentioned elsewhere</td>\n",
              "      <td>0</td>\n",
              "      <td>0</td>\n",
              "      <td>250</td>\n",
              "      <td>837</td>\n",
              "      <td>710</td>\n",
              "      <td>746</td>\n",
              "      <td>839</td>\n",
              "      <td>762</td>\n",
              "      <td>882</td>\n",
              "      <td>1015</td>\n",
              "      <td>829</td>\n",
              "    </tr>\n",
              "    <tr>\n",
              "      <th>30857</th>\n",
              "      <td>Gauteng</td>\n",
              "      <td>Moffatview</td>\n",
              "      <td>All theft not mentioned elsewhere</td>\n",
              "      <td>0</td>\n",
              "      <td>0</td>\n",
              "      <td>0</td>\n",
              "      <td>0</td>\n",
              "      <td>0</td>\n",
              "      <td>0</td>\n",
              "      <td>0</td>\n",
              "      <td>1012</td>\n",
              "      <td>1195</td>\n",
              "      <td>1294</td>\n",
              "      <td>991</td>\n",
              "    </tr>\n",
              "    <tr>\n",
              "      <th>30858</th>\n",
              "      <td>Western Cape</td>\n",
              "      <td>Belhar</td>\n",
              "      <td>Drug-related crime</td>\n",
              "      <td>0</td>\n",
              "      <td>0</td>\n",
              "      <td>54</td>\n",
              "      <td>238</td>\n",
              "      <td>291</td>\n",
              "      <td>583</td>\n",
              "      <td>840</td>\n",
              "      <td>1117</td>\n",
              "      <td>1197</td>\n",
              "      <td>1237</td>\n",
              "      <td>1401</td>\n",
              "    </tr>\n",
              "    <tr>\n",
              "      <th>30859</th>\n",
              "      <td>Western Cape</td>\n",
              "      <td>Lentegeur</td>\n",
              "      <td>All theft not mentioned elsewhere</td>\n",
              "      <td>0</td>\n",
              "      <td>0</td>\n",
              "      <td>0</td>\n",
              "      <td>0</td>\n",
              "      <td>0</td>\n",
              "      <td>0</td>\n",
              "      <td>0</td>\n",
              "      <td>0</td>\n",
              "      <td>1300</td>\n",
              "      <td>2346</td>\n",
              "      <td>1989</td>\n",
              "    </tr>\n",
              "    <tr>\n",
              "      <th>30860</th>\n",
              "      <td>Western Cape</td>\n",
              "      <td>Lentegeur</td>\n",
              "      <td>Drug-related crime</td>\n",
              "      <td>0</td>\n",
              "      <td>0</td>\n",
              "      <td>0</td>\n",
              "      <td>0</td>\n",
              "      <td>0</td>\n",
              "      <td>0</td>\n",
              "      <td>0</td>\n",
              "      <td>0</td>\n",
              "      <td>1126</td>\n",
              "      <td>1933</td>\n",
              "      <td>2050</td>\n",
              "    </tr>\n",
              "  </tbody>\n",
              "</table>\n",
              "</div>"
            ],
            "text/plain": [
              "           Province     Station                           Category  2005-2006  \\\n",
              "30856  Western Cape      Belhar  All theft not mentioned elsewhere          0   \n",
              "30857       Gauteng  Moffatview  All theft not mentioned elsewhere          0   \n",
              "30858  Western Cape      Belhar                 Drug-related crime          0   \n",
              "30859  Western Cape   Lentegeur  All theft not mentioned elsewhere          0   \n",
              "30860  Western Cape   Lentegeur                 Drug-related crime          0   \n",
              "\n",
              "       2006-2007  2007-2008  2008-2009  2009-2010  2010-2011  2011-2012  \\\n",
              "30856          0        250        837        710        746        839   \n",
              "30857          0          0          0          0          0          0   \n",
              "30858          0         54        238        291        583        840   \n",
              "30859          0          0          0          0          0          0   \n",
              "30860          0          0          0          0          0          0   \n",
              "\n",
              "       2012-2013  2013-2014  2014-2015  2015-2016  \n",
              "30856        762        882       1015        829  \n",
              "30857       1012       1195       1294        991  \n",
              "30858       1117       1197       1237       1401  \n",
              "30859          0       1300       2346       1989  \n",
              "30860          0       1126       1933       2050  "
            ]
          },
          "execution_count": 4,
          "metadata": {},
          "output_type": "execute_result"
        }
      ],
      "source": [
        "df.tail()"
      ]
    },
    {
      "cell_type": "code",
      "execution_count": null,
      "id": "4936edea-5b4f-4ae5-9e7a-faf595549a97",
      "metadata": {
        "id": "4936edea-5b4f-4ae5-9e7a-faf595549a97",
        "outputId": "30374a39-bca3-49d4-a118-2ef6e7f47853"
      },
      "outputs": [
        {
          "name": "stdout",
          "output_type": "stream",
          "text": [
            "Province     0\n",
            "Station      0\n",
            "Category     0\n",
            "2005-2006    0\n",
            "2006-2007    0\n",
            "2007-2008    0\n",
            "2008-2009    0\n",
            "2009-2010    0\n",
            "2010-2011    0\n",
            "2011-2012    0\n",
            "2012-2013    0\n",
            "2013-2014    0\n",
            "2014-2015    0\n",
            "2015-2016    0\n",
            "dtype: int64\n"
          ]
        }
      ],
      "source": [
        "# Check for missing values\n",
        "print(df.isnull().sum())\n"
      ]
    },
    {
      "cell_type": "code",
      "execution_count": null,
      "id": "fc4aeaa7-911c-4a8e-a8b6-4c2e8f113e9d",
      "metadata": {
        "id": "fc4aeaa7-911c-4a8e-a8b6-4c2e8f113e9d"
      },
      "outputs": [],
      "source": [
        "df.fillna(0, inplace=True)\n"
      ]
    },
    {
      "cell_type": "code",
      "execution_count": null,
      "id": "dffc3ba9-48c6-496c-9289-1c0d0bdfa1d9",
      "metadata": {
        "id": "dffc3ba9-48c6-496c-9289-1c0d0bdfa1d9",
        "outputId": "13edfa09-76a1-4fad-86fc-5e9d8f6abd11"
      },
      "outputs": [
        {
          "name": "stdout",
          "output_type": "stream",
          "text": [
            "Province     0\n",
            "Station      0\n",
            "Category     0\n",
            "2005-2006    0\n",
            "2006-2007    0\n",
            "2007-2008    0\n",
            "2008-2009    0\n",
            "2009-2010    0\n",
            "2010-2011    0\n",
            "2011-2012    0\n",
            "2012-2013    0\n",
            "2013-2014    0\n",
            "2014-2015    0\n",
            "2015-2016    0\n",
            "dtype: int64\n"
          ]
        }
      ],
      "source": [
        "print(df.isnull().sum())"
      ]
    },
    {
      "cell_type": "code",
      "execution_count": null,
      "id": "b8bde145-85e4-4db8-ad48-1e9aa49a76c3",
      "metadata": {
        "id": "b8bde145-85e4-4db8-ad48-1e9aa49a76c3"
      },
      "outputs": [],
      "source": [
        "# Find and remove duplicate rows\n",
        "df.drop_duplicates(inplace=True)\n"
      ]
    },
    {
      "cell_type": "code",
      "execution_count": null,
      "id": "10159b62-a2ca-416f-a39f-12f5a32efcf3",
      "metadata": {
        "id": "10159b62-a2ca-416f-a39f-12f5a32efcf3"
      },
      "outputs": [],
      "source": [
        "# Make column names lowercase and remove spaces\n",
        "df.columns = df.columns.str.strip().str.lower().str.replace(' ', '_')\n"
      ]
    },
    {
      "cell_type": "code",
      "execution_count": null,
      "id": "fd0c8d11-cf8c-4c33-9f27-939271dd8a7e",
      "metadata": {
        "id": "fd0c8d11-cf8c-4c33-9f27-939271dd8a7e",
        "outputId": "aecc3ab2-6532-472a-d28e-46e678eb7f9c"
      },
      "outputs": [
        {
          "name": "stdout",
          "output_type": "stream",
          "text": [
            "       province            station                           category  \\\n",
            "0  Western Cape  Cape Town Central  All theft not mentioned elsewhere   \n",
            "1       Gauteng        Jhb Central  All theft not mentioned elsewhere   \n",
            "2  Western Cape    Mitchells Plain  All theft not mentioned elsewhere   \n",
            "3    Free State          Park Road  All theft not mentioned elsewhere   \n",
            "4       Gauteng   Pretoria Central  All theft not mentioned elsewhere   \n",
            "\n",
            "   2005-2006  2006-2007  2007-2008  2008-2009  2009-2010  2010-2011  \\\n",
            "0       6692       6341       5966       5187       4985       5127   \n",
            "1       6093       4602       3761       3610       3267       3037   \n",
            "2       5341       6093       6316       6803       6035       5761   \n",
            "3       5108       4282       3834       3316       3101       3013   \n",
            "4       5099       4536       3309       2694       2616       2606   \n",
            "\n",
            "   2011-2012  2012-2013  2013-2014  2014-2015  2015-2016  \n",
            "0       5285       5937       5600       5335       5176  \n",
            "1       2886       2638       2809       3050       2434  \n",
            "2       6108       5514       4975       4043       3635  \n",
            "3       2679       3116       2927       2297       2103  \n",
            "4       2635       3226       3246       2892       3030  \n",
            "<class 'pandas.core.frame.DataFrame'>\n",
            "RangeIndex: 30861 entries, 0 to 30860\n",
            "Data columns (total 14 columns):\n",
            " #   Column     Non-Null Count  Dtype \n",
            "---  ------     --------------  ----- \n",
            " 0   province   30861 non-null  object\n",
            " 1   station    30861 non-null  object\n",
            " 2   category   30861 non-null  object\n",
            " 3   2005-2006  30861 non-null  int64 \n",
            " 4   2006-2007  30861 non-null  int64 \n",
            " 5   2007-2008  30861 non-null  int64 \n",
            " 6   2008-2009  30861 non-null  int64 \n",
            " 7   2009-2010  30861 non-null  int64 \n",
            " 8   2010-2011  30861 non-null  int64 \n",
            " 9   2011-2012  30861 non-null  int64 \n",
            " 10  2012-2013  30861 non-null  int64 \n",
            " 11  2013-2014  30861 non-null  int64 \n",
            " 12  2014-2015  30861 non-null  int64 \n",
            " 13  2015-2016  30861 non-null  int64 \n",
            "dtypes: int64(11), object(3)\n",
            "memory usage: 3.3+ MB\n",
            "None\n"
          ]
        }
      ],
      "source": [
        "\n",
        "# Step 2: Preview the data\n",
        "print(df.head())\n",
        "print(df.info())"
      ]
    },
    {
      "cell_type": "code",
      "execution_count": null,
      "id": "f5fd48c2-a4f7-45ff-98c6-2348d17a5433",
      "metadata": {
        "id": "f5fd48c2-a4f7-45ff-98c6-2348d17a5433",
        "outputId": "4e884dd9-f66a-48b1-9c9e-184daac3296c"
      },
      "outputs": [
        {
          "name": "stdout",
          "output_type": "stream",
          "text": [
            "Missing values:\n",
            " province     0\n",
            "station      0\n",
            "category     0\n",
            "2005-2006    0\n",
            "2006-2007    0\n",
            "2007-2008    0\n",
            "2008-2009    0\n",
            "2009-2010    0\n",
            "2010-2011    0\n",
            "2011-2012    0\n",
            "2012-2013    0\n",
            "2013-2014    0\n",
            "2014-2015    0\n",
            "2015-2016    0\n",
            "dtype: int64\n"
          ]
        }
      ],
      "source": [
        "# Step 3: Check for missing values\n",
        "print(\"Missing values:\\n\", df.isnull().sum())\n",
        "\n"
      ]
    },
    {
      "cell_type": "code",
      "execution_count": null,
      "id": "39f6cdab-7776-4ca8-879f-6503ea0d4c9c",
      "metadata": {
        "id": "39f6cdab-7776-4ca8-879f-6503ea0d4c9c"
      },
      "outputs": [],
      "source": [
        "# Optionally: Fill or drop missing values\n",
        "df.fillna(0, inplace=True)  # Or use df.dropna()\n",
        "\n"
      ]
    },
    {
      "cell_type": "code",
      "execution_count": null,
      "id": "b3f4c6b4-4f1b-4cc7-bdc7-68ed1392b138",
      "metadata": {
        "id": "b3f4c6b4-4f1b-4cc7-bdc7-68ed1392b138"
      },
      "outputs": [],
      "source": [
        "# Step 4: Remove duplicates if any\n",
        "df.drop_duplicates(inplace=True)\n",
        "\n"
      ]
    },
    {
      "cell_type": "code",
      "execution_count": null,
      "id": "d02e0fe4-5b9b-43f8-9ac4-e00ceaa006c2",
      "metadata": {
        "id": "d02e0fe4-5b9b-43f8-9ac4-e00ceaa006c2"
      },
      "outputs": [],
      "source": [
        "# Step 5: Standardize string columns\n",
        "df['province'] = df['province'].str.title().str.strip()\n",
        "df['station'] = df['station'].str.title().str.strip()\n",
        "df['category'] = df['category'].str.title().str.strip()\n",
        "\n"
      ]
    },
    {
      "cell_type": "code",
      "execution_count": null,
      "id": "c9c798a1-9ba3-4291-9d61-bd2362d90b9e",
      "metadata": {
        "id": "c9c798a1-9ba3-4291-9d61-bd2362d90b9e"
      },
      "outputs": [],
      "source": [
        "# Step 6: Convert year columns to numeric\n",
        "year_cols = [col for col in df.columns if '200' in col]\n",
        "df[year_cols] = df[year_cols].apply(pd.to_numeric, errors='coerce')\n",
        "\n"
      ]
    },
    {
      "cell_type": "code",
      "execution_count": null,
      "id": "a05ce443-2080-476d-a32e-2f0dd5b52add",
      "metadata": {
        "id": "a05ce443-2080-476d-a32e-2f0dd5b52add"
      },
      "outputs": [],
      "source": [
        "# Step 7: Optional – Reshape for better Tableau use (long format)\n",
        "df_long = df.melt(id_vars=['province', 'station', 'category'],\n",
        "                  var_name='year',\n",
        "                  value_name='cases')\n",
        "\n"
      ]
    },
    {
      "cell_type": "code",
      "execution_count": null,
      "id": "29ead132-c3d4-4d00-ad6c-b15503b9ce5c",
      "metadata": {
        "id": "29ead132-c3d4-4d00-ad6c-b15503b9ce5c",
        "outputId": "2877f50a-2b73-4def-ce6c-f55fd22de109"
      },
      "outputs": [
        {
          "name": "stdout",
          "output_type": "stream",
          "text": [
            "Cleaned and reshaped dataset saved as cleaned_southAfrica_crime.csv\n"
          ]
        }
      ],
      "source": [
        "# Clean up year column (make it a single year)\n",
        "df_long['year'] = df_long['year'].str[:4].astype(int)\n",
        "\n",
        "# Step 8: Save cleaned dataset\n",
        "df_long.to_csv(\"cleaned_southAfrica_crime.csv\", index=False)\n",
        "\n",
        "print(\"Cleaned and reshaped dataset saved as cleaned_southAfrica_crime.csv\")"
      ]
    },
    {
      "cell_type": "code",
      "execution_count": null,
      "id": "c9dfb0aa-ef10-41bf-af4e-47be601dade0",
      "metadata": {
        "id": "c9dfb0aa-ef10-41bf-af4e-47be601dade0",
        "outputId": "74c57e63-1393-42cb-d1fa-34424fdb951a"
      },
      "outputs": [
        {
          "name": "stdout",
          "output_type": "stream",
          "text": [
            "['province', 'station', 'category', '2005-2006', '2006-2007', '2007-2008', '2008-2009', '2009-2010', '2010-2011', '2011-2012', '2012-2013', '2013-2014', '2014-2015', '2015-2016']\n",
            "       province            station                           category  \\\n",
            "0  Western Cape  Cape Town Central  All theft not mentioned elsewhere   \n",
            "1       Gauteng        Jhb Central  All theft not mentioned elsewhere   \n",
            "2  Western Cape    Mitchells Plain  All theft not mentioned elsewhere   \n",
            "3    Free State          Park Road  All theft not mentioned elsewhere   \n",
            "4       Gauteng   Pretoria Central  All theft not mentioned elsewhere   \n",
            "\n",
            "        year  cases  \n",
            "0  2005-2006   6692  \n",
            "1  2005-2006   6093  \n",
            "2  2005-2006   5341  \n",
            "3  2005-2006   5108  \n",
            "4  2005-2006   5099  \n"
          ]
        }
      ],
      "source": [
        "import pandas as pd\n",
        "\n",
        "# Load the dataset\n",
        "df = pd.read_csv(\"SouthAfricaCrimeStats_v2.csv\")\n",
        "\n",
        "# Clean column names\n",
        "df.columns = df.columns.str.strip().str.lower().str.replace(\" \", \"_\")\n",
        "\n",
        "# Check the cleaned column names\n",
        "print(df.columns.tolist())\n",
        "\n",
        "# Melt the DataFrame\n",
        "df_melted = df.melt(\n",
        "    id_vars=[\"province\", \"station\", \"category\"],\n",
        "    var_name=\"year\",\n",
        "    value_name=\"cases\"\n",
        ")\n",
        "\n",
        "# Preview the result\n",
        "print(df_melted.head())\n",
        "\n",
        "# Save it\n",
        "df_melted.to_csv(\"cleaned_crime_long.csv\", index=False)\n"
      ]
    },
    {
      "cell_type": "code",
      "execution_count": null,
      "id": "eb6d0cbe-25fe-4e4e-8a4f-5aa3b884454a",
      "metadata": {
        "id": "eb6d0cbe-25fe-4e4e-8a4f-5aa3b884454a",
        "outputId": "26f35f39-43f6-4c4c-fa38-a0f7198d5567"
      },
      "outputs": [
        {
          "data": {
            "text/html": [
              "<div>\n",
              "<style scoped>\n",
              "    .dataframe tbody tr th:only-of-type {\n",
              "        vertical-align: middle;\n",
              "    }\n",
              "\n",
              "    .dataframe tbody tr th {\n",
              "        vertical-align: top;\n",
              "    }\n",
              "\n",
              "    .dataframe thead th {\n",
              "        text-align: right;\n",
              "    }\n",
              "</style>\n",
              "<table border=\"1\" class=\"dataframe\">\n",
              "  <thead>\n",
              "    <tr style=\"text-align: right;\">\n",
              "      <th></th>\n",
              "      <th>province</th>\n",
              "      <th>station</th>\n",
              "      <th>category</th>\n",
              "      <th>year</th>\n",
              "      <th>cases</th>\n",
              "    </tr>\n",
              "  </thead>\n",
              "  <tbody>\n",
              "    <tr>\n",
              "      <th>0</th>\n",
              "      <td>Western Cape</td>\n",
              "      <td>Cape Town Central</td>\n",
              "      <td>All theft not mentioned elsewhere</td>\n",
              "      <td>2005-2006</td>\n",
              "      <td>6692</td>\n",
              "    </tr>\n",
              "    <tr>\n",
              "      <th>1</th>\n",
              "      <td>Gauteng</td>\n",
              "      <td>Jhb Central</td>\n",
              "      <td>All theft not mentioned elsewhere</td>\n",
              "      <td>2005-2006</td>\n",
              "      <td>6093</td>\n",
              "    </tr>\n",
              "    <tr>\n",
              "      <th>2</th>\n",
              "      <td>Western Cape</td>\n",
              "      <td>Mitchells Plain</td>\n",
              "      <td>All theft not mentioned elsewhere</td>\n",
              "      <td>2005-2006</td>\n",
              "      <td>5341</td>\n",
              "    </tr>\n",
              "    <tr>\n",
              "      <th>3</th>\n",
              "      <td>Free State</td>\n",
              "      <td>Park Road</td>\n",
              "      <td>All theft not mentioned elsewhere</td>\n",
              "      <td>2005-2006</td>\n",
              "      <td>5108</td>\n",
              "    </tr>\n",
              "    <tr>\n",
              "      <th>4</th>\n",
              "      <td>Gauteng</td>\n",
              "      <td>Pretoria Central</td>\n",
              "      <td>All theft not mentioned elsewhere</td>\n",
              "      <td>2005-2006</td>\n",
              "      <td>5099</td>\n",
              "    </tr>\n",
              "  </tbody>\n",
              "</table>\n",
              "</div>"
            ],
            "text/plain": [
              "       province            station                           category  \\\n",
              "0  Western Cape  Cape Town Central  All theft not mentioned elsewhere   \n",
              "1       Gauteng        Jhb Central  All theft not mentioned elsewhere   \n",
              "2  Western Cape    Mitchells Plain  All theft not mentioned elsewhere   \n",
              "3    Free State          Park Road  All theft not mentioned elsewhere   \n",
              "4       Gauteng   Pretoria Central  All theft not mentioned elsewhere   \n",
              "\n",
              "        year  cases  \n",
              "0  2005-2006   6692  \n",
              "1  2005-2006   6093  \n",
              "2  2005-2006   5341  \n",
              "3  2005-2006   5108  \n",
              "4  2005-2006   5099  "
            ]
          },
          "execution_count": 23,
          "metadata": {},
          "output_type": "execute_result"
        }
      ],
      "source": [
        "df_melted.head()"
      ]
    },
    {
      "cell_type": "code",
      "execution_count": null,
      "id": "f919a1ad-ce42-4fe1-8bd4-0bd4fed33cd4",
      "metadata": {
        "id": "f919a1ad-ce42-4fe1-8bd4-0bd4fed33cd4",
        "outputId": "7943ca94-bc7c-426f-f58a-8e6c8c0d39e4"
      },
      "outputs": [
        {
          "data": {
            "text/html": [
              "<div>\n",
              "<style scoped>\n",
              "    .dataframe tbody tr th:only-of-type {\n",
              "        vertical-align: middle;\n",
              "    }\n",
              "\n",
              "    .dataframe tbody tr th {\n",
              "        vertical-align: top;\n",
              "    }\n",
              "\n",
              "    .dataframe thead th {\n",
              "        text-align: right;\n",
              "    }\n",
              "</style>\n",
              "<table border=\"1\" class=\"dataframe\">\n",
              "  <thead>\n",
              "    <tr style=\"text-align: right;\">\n",
              "      <th></th>\n",
              "      <th>province</th>\n",
              "      <th>station</th>\n",
              "      <th>category</th>\n",
              "      <th>year</th>\n",
              "      <th>cases</th>\n",
              "    </tr>\n",
              "  </thead>\n",
              "  <tbody>\n",
              "    <tr>\n",
              "      <th>339466</th>\n",
              "      <td>Western Cape</td>\n",
              "      <td>Belhar</td>\n",
              "      <td>All theft not mentioned elsewhere</td>\n",
              "      <td>2015-2016</td>\n",
              "      <td>829</td>\n",
              "    </tr>\n",
              "    <tr>\n",
              "      <th>339467</th>\n",
              "      <td>Gauteng</td>\n",
              "      <td>Moffatview</td>\n",
              "      <td>All theft not mentioned elsewhere</td>\n",
              "      <td>2015-2016</td>\n",
              "      <td>991</td>\n",
              "    </tr>\n",
              "    <tr>\n",
              "      <th>339468</th>\n",
              "      <td>Western Cape</td>\n",
              "      <td>Belhar</td>\n",
              "      <td>Drug-related crime</td>\n",
              "      <td>2015-2016</td>\n",
              "      <td>1401</td>\n",
              "    </tr>\n",
              "    <tr>\n",
              "      <th>339469</th>\n",
              "      <td>Western Cape</td>\n",
              "      <td>Lentegeur</td>\n",
              "      <td>All theft not mentioned elsewhere</td>\n",
              "      <td>2015-2016</td>\n",
              "      <td>1989</td>\n",
              "    </tr>\n",
              "    <tr>\n",
              "      <th>339470</th>\n",
              "      <td>Western Cape</td>\n",
              "      <td>Lentegeur</td>\n",
              "      <td>Drug-related crime</td>\n",
              "      <td>2015-2016</td>\n",
              "      <td>2050</td>\n",
              "    </tr>\n",
              "  </tbody>\n",
              "</table>\n",
              "</div>"
            ],
            "text/plain": [
              "            province     station                           category  \\\n",
              "339466  Western Cape      Belhar  All theft not mentioned elsewhere   \n",
              "339467       Gauteng  Moffatview  All theft not mentioned elsewhere   \n",
              "339468  Western Cape      Belhar                 Drug-related crime   \n",
              "339469  Western Cape   Lentegeur  All theft not mentioned elsewhere   \n",
              "339470  Western Cape   Lentegeur                 Drug-related crime   \n",
              "\n",
              "             year  cases  \n",
              "339466  2015-2016    829  \n",
              "339467  2015-2016    991  \n",
              "339468  2015-2016   1401  \n",
              "339469  2015-2016   1989  \n",
              "339470  2015-2016   2050  "
            ]
          },
          "execution_count": 25,
          "metadata": {},
          "output_type": "execute_result"
        }
      ],
      "source": [
        "df_melted.tail()"
      ]
    },
    {
      "cell_type": "code",
      "execution_count": null,
      "id": "173e1e6f-37e0-4df9-8c11-6948ea3a5708",
      "metadata": {
        "id": "173e1e6f-37e0-4df9-8c11-6948ea3a5708"
      },
      "outputs": [],
      "source": []
    }
  ],
  "metadata": {
    "kernelspec": {
      "display_name": "Python 3 (ipykernel)",
      "language": "python",
      "name": "python3"
    },
    "language_info": {
      "codemirror_mode": {
        "name": "ipython",
        "version": 3
      },
      "file_extension": ".py",
      "mimetype": "text/x-python",
      "name": "python",
      "nbconvert_exporter": "python",
      "pygments_lexer": "ipython3",
      "version": "3.11.7"
    },
    "colab": {
      "provenance": [],
      "include_colab_link": true
    }
  },
  "nbformat": 4,
  "nbformat_minor": 5
}